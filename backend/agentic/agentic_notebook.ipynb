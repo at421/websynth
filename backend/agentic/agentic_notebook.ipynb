{
 "cells": [
  {
   "cell_type": "code",
   "execution_count": 5,
   "metadata": {},
   "outputs": [],
   "source": [
    "from langchain_anthropic import ChatAnthropic\n",
    "from dotenv import load_dotenv\n",
    "load_dotenv()"
   ]
  },
  {
   "cell_type": "code",
   "execution_count": 11,
   "metadata": {},
   "outputs": [],
   "source": [
    "model = ChatAnthropic(model_name=\"claude-3-5-haiku-latest\")"
   ]
  },
  {
   "cell_type": "code",
   "execution_count": 13,
   "metadata": {},
   "outputs": [],
   "source": [
    "output = model.generate({\"What is the meaning of life?\"})"
   ]
  },
  {
   "cell_type": "code",
   "execution_count": 18,
   "metadata": {},
   "outputs": [
    {
     "data": {
      "text/plain": [
       "\"That's a profound philosophical question without a single, universally agreed-upon answer. Different perspectives include:\\n\\n1. Philosophical views:\\n- Finding personal meaning and purpose\\n- Experiencing happiness and fulfillment\\n- Contributing to society\\n- Self-improvement\\n- Pursuing knowledge\\n\\n2. Religious perspectives:\\n- Serving God\\n- Spiritual growth\\n- Fulfilling divine purpose\\n\\n3. Existential views:\\n- Creating your own meaning\\n- Accepting life's inherent meaninglessness\\n- Embracing individual experience\\n\\n4. Scientific/Biological perspective:\\n- Survival and reproduction\\n- Propagating genetic legacy\\n\\n5. Humanistic perspective:\\n- Helping others\\n- Building connections\\n- Personal growth\\n- Making positive impact\\n\\nUltimately, the meaning of life is often a deeply personal interpretation that varies by individual, culture, and personal beliefs.\\n\\nWould you be interested in exploring any of these perspectives in more depth?\""
      ]
     },
     "execution_count": 18,
     "metadata": {},
     "output_type": "execute_result"
    }
   ],
   "source": [
    "output.generations[0][0].text"
   ]
  },
  {
   "cell_type": "code",
   "execution_count": null,
   "metadata": {},
   "outputs": [],
   "source": []
  }
 ],
 "metadata": {
  "kernelspec": {
   "display_name": "base",
   "language": "python",
   "name": "python3"
  },
  "language_info": {
   "codemirror_mode": {
    "name": "ipython",
    "version": 3
   },
   "file_extension": ".py",
   "mimetype": "text/x-python",
   "name": "python",
   "nbconvert_exporter": "python",
   "pygments_lexer": "ipython3",
   "version": "3.11.7"
  }
 },
 "nbformat": 4,
 "nbformat_minor": 2
}
