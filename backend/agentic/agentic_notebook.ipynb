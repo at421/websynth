{
 "cells": [
  {
   "cell_type": "code",
   "execution_count": 22,
   "metadata": {},
   "outputs": [
    {
     "data": {
      "text/plain": [
       "True"
      ]
     },
     "execution_count": 22,
     "metadata": {},
     "output_type": "execute_result"
    }
   ],
   "source": [
    "from langchain_anthropic import ChatAnthropic\n",
    "from dotenv import load_dotenv\n",
    "import re\n",
    "load_dotenv()"
   ]
  },
  {
   "cell_type": "markdown",
   "metadata": {},
   "source": [
    "## Using Langchain"
   ]
  },
  {
   "cell_type": "code",
   "execution_count": null,
   "metadata": {},
   "outputs": [
    {
     "data": {
      "text/plain": [
       "'Here\\'s a basic React website using Shadcn components with a button and input:\\n\\n```tsx\\nimport React, { useState } from \\'react\\'\\nimport { Button } from \"@/components/ui/button\"\\nimport { Input } from \"@/components/ui/input\"\\n\\nexport default function Home() {\\n  const [inputValue, setInputValue] = useState(\\'\\')\\n\\n  const handleInputChange = (e: React.ChangeEvent<HTMLInputElement>) => {\\n    setInputValue(e.target.value)\\n  }\\n\\n  const handleButtonClick = () => {\\n    alert(`You entered: ${inputValue}`)\\n  }\\n\\n  return (\\n    <div className=\"container mx-auto p-4 flex flex-col items-center justify-center min-h-screen space-y-4\">\\n      <Input \\n        placeholder=\"Enter something...\" \\n        value={inputValue}\\n        onChange={handleInputChange}\\n        className=\"max-w-md\"\\n      />\\n      \\n      <Button \\n        onClick={handleButtonClick}\\n        variant=\"default\"\\n      >\\n        Submit\\n      </Button>\\n    </div>\\n  )\\n}\\n```'"
      ]
     },
     "execution_count": 20,
     "metadata": {},
     "output_type": "execute_result"
    }
   ],
   "source": [
    "model = ChatAnthropic(model_name=\"claude-3-5-haiku-latest\")\n",
    "output = model.generate({\"\"\"Give me the code for a react website with shadcn components, \n",
    "                         that has button and an input. Assume already that shadcn and all components are installed. Just give the website code nothing else\"\"\"})\n",
    "output.generations[0][0].text"
   ]
  },
  {
   "cell_type": "code",
   "execution_count": 25,
   "metadata": {},
   "outputs": [
    {
     "name": "stdout",
     "output_type": "stream",
     "text": [
      "import React, { useState } from 'react'\n",
      "import { Button } from \"@/components/ui/button\"\n",
      "import { Input } from \"@/components/ui/input\"\n",
      "\n",
      "export default function Home() {\n",
      "  const [inputValue, setInputValue] = useState('')\n",
      "\n",
      "  const handleInputChange = (e: React.ChangeEvent<HTMLInputElement>) => {\n",
      "    setInputValue(e.target.value)\n",
      "  }\n",
      "\n",
      "  const handleButtonClick = () => {\n",
      "    alert(`You entered: ${inputValue}`)\n",
      "  }\n",
      "\n",
      "  return (\n",
      "    <div className=\"container mx-auto p-4 flex flex-col items-center justify-center min-h-screen space-y-4\">\n",
      "      <Input \n",
      "        placeholder=\"Enter something...\" \n",
      "        value={inputValue}\n",
      "        onChange={handleInputChange}\n",
      "        className=\"max-w-md\"\n",
      "      />\n",
      "      \n",
      "      <Button \n",
      "        onClick={handleButtonClick}\n",
      "        variant=\"default\"\n",
      "      >\n",
      "        Submit\n",
      "      </Button>\n",
      "    </div>\n",
      "  )\n",
      "}\n"
     ]
    }
   ],
   "source": [
    "def extract_tsx_code(text):\n",
    "    \"\"\"\n",
    "    Extracts TypeScript React (TSX) code from a given text string.\n",
    "\n",
    "    :param text: String containing text with embedded TSX code.\n",
    "    :return: Extracted TSX code as a string.\n",
    "    \"\"\"\n",
    "    match = re.search(r'```tsx\\n(.*?)\\n```', text, re.DOTALL)\n",
    "    return match.group(1) if match else None\n",
    "\n",
    "print(extract_tsx_code(output.generations[0][0].text))\n",
    "\n",
    "# Write to a txt \n",
    "with open(\"output.txt\", \"w\") as f:\n",
    "    f.write(extract_tsx_code(output.generations[0][0].text))"
   ]
  },
  {
   "cell_type": "code",
   "execution_count": null,
   "metadata": {},
   "outputs": [],
   "source": []
  }
 ],
 "metadata": {
  "kernelspec": {
   "display_name": "base",
   "language": "python",
   "name": "python3"
  },
  "language_info": {
   "codemirror_mode": {
    "name": "ipython",
    "version": 3
   },
   "file_extension": ".py",
   "mimetype": "text/x-python",
   "name": "python",
   "nbconvert_exporter": "python",
   "pygments_lexer": "ipython3",
   "version": "3.11.7"
  }
 },
 "nbformat": 4,
 "nbformat_minor": 2
}
