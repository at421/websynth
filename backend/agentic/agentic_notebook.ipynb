{
 "cells": [
  {
   "cell_type": "code",
   "execution_count": 22,
   "metadata": {},
   "outputs": [
    {
     "data": {
      "text/plain": [
       "True"
      ]
     },
     "execution_count": 22,
     "metadata": {},
     "output_type": "execute_result"
    }
   ],
   "source": [
    "from langchain_anthropic import ChatAnthropic\n",
    "from dotenv import load_dotenv\n",
    "import re\n",
    "load_dotenv()"
   ]
  },
  {
   "cell_type": "markdown",
   "metadata": {},
   "source": [
    "## Using Langchain"
   ]
  },
  {
   "cell_type": "code",
   "execution_count": 36,
   "metadata": {},
   "outputs": [
    {
     "data": {
      "text/plain": [
       "'Here\\'s a sample Next.js page with a Shadcn input and button:\\n\\n```tsx\\n\"use client\"\\n\\nimport { Button } from \"@/components/ui/button\"\\nimport { Input } from \"@/components/ui/input\"\\nimport { useState } from \"react\"\\n\\nexport default function Home() {\\n  const [email, setEmail] = useState(\"\")\\n\\n  const handleSubmit = (e: React.FormEvent) => {\\n    e.preventDefault()\\n    console.log(\"Submitted email:\", email)\\n  }\\n\\n  return (\\n    <main className=\"flex min-h-screen flex-col items-center justify-center p-24\">\\n      <form \\n        onSubmit={handleSubmit} \\n        className=\"flex flex-col space-y-4 w-full max-w-md\"\\n      >\\n        <Input \\n          type=\"email\" \\n          placeholder=\"Enter your email\"\\n          value={email}\\n          onChange={(e) => setEmail(e.target.value)}\\n          required\\n        />\\n        <Button \\n          type=\"submit\" \\n          variant=\"secondary\" \\n          className=\"bg-yellow-500 hover:bg-yellow-600\"\\n        >\\n          Submit\\n        </Button>\\n      </form>\\n    </main>\\n  )\\n}\\n```'"
      ]
     },
     "execution_count": 36,
     "metadata": {},
     "output_type": "execute_result"
    }
   ],
   "source": [
    "model = ChatAnthropic(model_name=\"claude-3-5-haiku-latest\")\n",
    "output = model.generate({\"\"\"Give me the code for a nextJS react website with shadcn components, \n",
    "                         that has a yellow button that says submit and an input for email. Assume already that shadcn and all components are installed. Just give the website code nothing else\"\"\"})\n",
    "output.generations[0][0].text"
   ]
  },
  {
   "cell_type": "code",
   "execution_count": 37,
   "metadata": {},
   "outputs": [
    {
     "name": "stdout",
     "output_type": "stream",
     "text": [
      "\"use client\"\n",
      "\n",
      "import { Button } from \"@/components/ui/button\"\n",
      "import { Input } from \"@/components/ui/input\"\n",
      "import { useState } from \"react\"\n",
      "\n",
      "export default function Home() {\n",
      "  const [email, setEmail] = useState(\"\")\n",
      "\n",
      "  const handleSubmit = (e: React.FormEvent) => {\n",
      "    e.preventDefault()\n",
      "    console.log(\"Submitted email:\", email)\n",
      "  }\n",
      "\n",
      "  return (\n",
      "    <main className=\"flex min-h-screen flex-col items-center justify-center p-24\">\n",
      "      <form \n",
      "        onSubmit={handleSubmit} \n",
      "        className=\"flex flex-col space-y-4 w-full max-w-md\"\n",
      "      >\n",
      "        <Input \n",
      "          type=\"email\" \n",
      "          placeholder=\"Enter your email\"\n",
      "          value={email}\n",
      "          onChange={(e) => setEmail(e.target.value)}\n",
      "          required\n",
      "        />\n",
      "        <Button \n",
      "          type=\"submit\" \n",
      "          variant=\"secondary\" \n",
      "          className=\"bg-yellow-500 hover:bg-yellow-600\"\n",
      "        >\n",
      "          Submit\n",
      "        </Button>\n",
      "      </form>\n",
      "    </main>\n",
      "  )\n",
      "}\n"
     ]
    }
   ],
   "source": [
    "def extract_tsx_code(text):\n",
    "    \"\"\"\n",
    "    Extracts TypeScript React (TSX) code from a given text string.\n",
    "\n",
    "    :param text: String containing text with embedded TSX code.\n",
    "    :return: Extracted TSX code as a string.\n",
    "    \"\"\"\n",
    "    match = re.search(r'```tsx\\n(.*?)\\n```', text, re.DOTALL)\n",
    "    return match.group(1) if match else None\n",
    "\n",
    "print(extract_tsx_code(output.generations[0][0].text))\n",
    "\n",
    "# Write to a txt \n",
    "with open(\"../virtual-frontend/src/app/page.tsx\", \"w\") as f:\n",
    "    f.write(extract_tsx_code(output.generations[0][0].text))"
   ]
  },
  {
   "cell_type": "code",
   "execution_count": null,
   "metadata": {},
   "outputs": [],
   "source": []
  }
 ],
 "metadata": {
  "kernelspec": {
   "display_name": "base",
   "language": "python",
   "name": "python3"
  },
  "language_info": {
   "codemirror_mode": {
    "name": "ipython",
    "version": 3
   },
   "file_extension": ".py",
   "mimetype": "text/x-python",
   "name": "python",
   "nbconvert_exporter": "python",
   "pygments_lexer": "ipython3",
   "version": "3.11.7"
  }
 },
 "nbformat": 4,
 "nbformat_minor": 2
}
