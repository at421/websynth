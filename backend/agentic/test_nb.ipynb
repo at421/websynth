{
 "cells": [
  {
   "cell_type": "code",
   "execution_count": 33,
   "metadata": {},
   "outputs": [
    {
     "ename": "ImportError",
     "evalue": "cannot import name 'tools' from 'langchain_core.tools' (/Users/viyanraj/Documents/websynth/my_venv/lib/python3.13/site-packages/langchain_core/tools/__init__.py)",
     "output_type": "error",
     "traceback": [
      "\u001b[0;31m---------------------------------------------------------------------------\u001b[0m",
      "\u001b[0;31mImportError\u001b[0m                               Traceback (most recent call last)",
      "Cell \u001b[0;32mIn[33], line 4\u001b[0m\n\u001b[1;32m      1\u001b[0m \u001b[38;5;28;01mimport\u001b[39;00m\u001b[38;5;250m \u001b[39m\u001b[38;5;21;01mutils\u001b[39;00m\n\u001b[1;32m      2\u001b[0m \u001b[38;5;28;01mimport\u001b[39;00m\u001b[38;5;250m \u001b[39m\u001b[38;5;21;01mimportlib\u001b[39;00m\n\u001b[0;32m----> 4\u001b[0m \u001b[43mimportlib\u001b[49m\u001b[38;5;241;43m.\u001b[39;49m\u001b[43mreload\u001b[49m\u001b[43m(\u001b[49m\u001b[43mutils\u001b[49m\u001b[43m)\u001b[49m\n",
      "File \u001b[0;32m/opt/homebrew/Cellar/python@3.13/3.13.1/Frameworks/Python.framework/Versions/3.13/lib/python3.13/importlib/__init__.py:129\u001b[0m, in \u001b[0;36mreload\u001b[0;34m(module)\u001b[0m\n\u001b[1;32m    127\u001b[0m \u001b[38;5;28;01mif\u001b[39;00m spec \u001b[38;5;129;01mis\u001b[39;00m \u001b[38;5;28;01mNone\u001b[39;00m:\n\u001b[1;32m    128\u001b[0m     \u001b[38;5;28;01mraise\u001b[39;00m \u001b[38;5;167;01mModuleNotFoundError\u001b[39;00m(\u001b[38;5;124mf\u001b[39m\u001b[38;5;124m\"\u001b[39m\u001b[38;5;124mspec not found for the module \u001b[39m\u001b[38;5;132;01m{\u001b[39;00mname\u001b[38;5;132;01m!r}\u001b[39;00m\u001b[38;5;124m\"\u001b[39m, name\u001b[38;5;241m=\u001b[39mname)\n\u001b[0;32m--> 129\u001b[0m \u001b[43m_bootstrap\u001b[49m\u001b[38;5;241;43m.\u001b[39;49m\u001b[43m_exec\u001b[49m\u001b[43m(\u001b[49m\u001b[43mspec\u001b[49m\u001b[43m,\u001b[49m\u001b[43m \u001b[49m\u001b[43mmodule\u001b[49m\u001b[43m)\u001b[49m\n\u001b[1;32m    130\u001b[0m \u001b[38;5;66;03m# The module may have replaced itself in sys.modules!\u001b[39;00m\n\u001b[1;32m    131\u001b[0m \u001b[38;5;28;01mreturn\u001b[39;00m sys\u001b[38;5;241m.\u001b[39mmodules[name]\n",
      "File \u001b[0;32m<frozen importlib._bootstrap>:866\u001b[0m, in \u001b[0;36m_exec\u001b[0;34m(spec, module)\u001b[0m\n",
      "File \u001b[0;32m<frozen importlib._bootstrap_external>:1026\u001b[0m, in \u001b[0;36mexec_module\u001b[0;34m(self, module)\u001b[0m\n",
      "File \u001b[0;32m<frozen importlib._bootstrap>:488\u001b[0m, in \u001b[0;36m_call_with_frames_removed\u001b[0;34m(f, *args, **kwds)\u001b[0m\n",
      "File \u001b[0;32m~/Documents/websynth/backend/agentic/utils.py:3\u001b[0m\n\u001b[1;32m      1\u001b[0m \u001b[38;5;28;01mfrom\u001b[39;00m\u001b[38;5;250m \u001b[39m\u001b[38;5;21;01mlangchain_anthropic\u001b[39;00m\u001b[38;5;250m \u001b[39m\u001b[38;5;28;01mimport\u001b[39;00m ChatAnthropic\n\u001b[0;32m----> 3\u001b[0m \u001b[38;5;28;01mfrom\u001b[39;00m\u001b[38;5;250m \u001b[39m\u001b[38;5;21;01mlangchain_core\u001b[39;00m\u001b[38;5;21;01m.\u001b[39;00m\u001b[38;5;21;01mtools\u001b[39;00m\u001b[38;5;250m \u001b[39m\u001b[38;5;28;01mimport\u001b[39;00m tools\n\u001b[1;32m      5\u001b[0m \u001b[38;5;28;01mfrom\u001b[39;00m\u001b[38;5;250m \u001b[39m\u001b[38;5;21;01mdotenv\u001b[39;00m\u001b[38;5;250m \u001b[39m\u001b[38;5;28;01mimport\u001b[39;00m load_dotenv\n\u001b[1;32m      7\u001b[0m \u001b[38;5;28;01mimport\u001b[39;00m\u001b[38;5;250m \u001b[39m\u001b[38;5;21;01mos\u001b[39;00m\n",
      "\u001b[0;31mImportError\u001b[0m: cannot import name 'tools' from 'langchain_core.tools' (/Users/viyanraj/Documents/websynth/my_venv/lib/python3.13/site-packages/langchain_core/tools/__init__.py)"
     ]
    }
   ],
   "source": [
    "import utils\n",
    "import importlib\n",
    "\n",
    "importlib.reload(utils)"
   ]
  },
  {
   "cell_type": "code",
   "execution_count": 30,
   "metadata": {},
   "outputs": [],
   "source": [
    "client = utils.ClaudeClient()"
   ]
  },
  {
   "cell_type": "code",
   "execution_count": 26,
   "metadata": {},
   "outputs": [
    {
     "name": "stdout",
     "output_type": "stream",
     "text": [
      "```tsx\n",
      "import React, { useState } from 'react'\n",
      "import { Button } from \"@/components/ui/button\"\n",
      "import { Input } from \"@/components/ui/input\"\n",
      "\n",
      "export default function Home() {\n",
      "  const [inputValue, setInputValue] = useState<string>('')\n",
      "\n",
      "  const handleInputChange = (e: React.ChangeEvent<HTMLInputElement>) => {\n",
      "    setInputValue(e.target.value)\n",
      "  }\n",
      "\n",
      "  const handleButtonClick = () => {\n",
      "    console.log('Input value:', inputValue)\n",
      "    alert(`You entered: ${inputValue}`)\n",
      "  }\n",
      "\n",
      "  return (\n",
      "    <div className=\"flex flex-col items-center justify-center min-h-screen space-y-4 p-4\">\n",
      "      <h1 className=\"text-2xl font-bold\">Shadcn Input and Button Example</h1>\n",
      "      \n",
      "      <Input \n",
      "        type=\"text\" \n",
      "        placeholder=\"Enter some text...\" \n",
      "        value={inputValue}\n",
      "        onChange={handleInputChange}\n",
      "        className=\"max-w-md\"\n",
      "      />\n",
      "      \n",
      "      <Button \n",
      "        onClick={handleButtonClick}\n",
      "        variant=\"default\"\n",
      "      >\n",
      "        Submit\n",
      "      </Button>\n",
      "    </div>\n",
      "  )\n",
      "}\n",
      "```\n",
      "import React, { useState } from 'react'\n",
      "import { Button } from \"@/components/ui/button\"\n",
      "import { Input } from \"@/components/ui/input\"\n",
      "\n",
      "export default function Home() {\n",
      "  const [inputValue, setInputValue] = useState<string>('')\n",
      "\n",
      "  const handleInputChange = (e: React.ChangeEvent<HTMLInputElement>) => {\n",
      "    setInputValue(e.target.value)\n",
      "  }\n",
      "\n",
      "  const handleButtonClick = () => {\n",
      "    console.log('Input value:', inputValue)\n",
      "    alert(`You entered: ${inputValue}`)\n",
      "  }\n",
      "\n",
      "  return (\n",
      "    <div className=\"flex flex-col items-center justify-center min-h-screen space-y-4 p-4\">\n",
      "      <h1 className=\"text-2xl font-bold\">Shadcn Input and Button Example</h1>\n",
      "      \n",
      "      <Input \n",
      "        type=\"text\" \n",
      "        placeholder=\"Enter some text...\" \n",
      "        value={inputValue}\n",
      "        onChange={handleInputChange}\n",
      "        className=\"max-w-md\"\n",
      "      />\n",
      "      \n",
      "      <Button \n",
      "        onClick={handleButtonClick}\n",
      "        variant=\"default\"\n",
      "      >\n",
      "        Submit\n",
      "      </Button>\n",
      "    </div>\n",
      "  )\n",
      "}\n"
     ]
    },
    {
     "data": {
      "text/plain": [
       "'import React, { useState } from \\'react\\'\\nimport { Button } from \"@/components/ui/button\"\\nimport { Input } from \"@/components/ui/input\"\\n\\nexport default function Home() {\\n  const [inputValue, setInputValue] = useState<string>(\\'\\')\\n\\n  const handleInputChange = (e: React.ChangeEvent<HTMLInputElement>) => {\\n    setInputValue(e.target.value)\\n  }\\n\\n  const handleButtonClick = () => {\\n    console.log(\\'Input value:\\', inputValue)\\n    alert(`You entered: ${inputValue}`)\\n  }\\n\\n  return (\\n    <div className=\"flex flex-col items-center justify-center min-h-screen space-y-4 p-4\">\\n      <h1 className=\"text-2xl font-bold\">Shadcn Input and Button Example</h1>\\n      \\n      <Input \\n        type=\"text\" \\n        placeholder=\"Enter some text...\" \\n        value={inputValue}\\n        onChange={handleInputChange}\\n        className=\"max-w-md\"\\n      />\\n      \\n      <Button \\n        onClick={handleButtonClick}\\n        variant=\"default\"\\n      >\\n        Submit\\n      </Button>\\n    </div>\\n  )\\n}'"
      ]
     },
     "execution_count": 26,
     "metadata": {},
     "output_type": "execute_result"
    }
   ],
   "source": [
    "code = client.llm_call()\n",
    "\n",
    "\n",
    "code"
   ]
  },
  {
   "cell_type": "code",
   "execution_count": 34,
   "metadata": {},
   "outputs": [
    {
     "data": {
      "text/plain": [
       "str"
      ]
     },
     "execution_count": 34,
     "metadata": {},
     "output_type": "execute_result"
    }
   ],
   "source": [
    "type(code)"
   ]
  },
  {
   "cell_type": "code",
   "execution_count": null,
   "metadata": {},
   "outputs": [],
   "source": []
  }
 ],
 "metadata": {
  "kernelspec": {
   "display_name": "my_venv",
   "language": "python",
   "name": "python3"
  },
  "language_info": {
   "codemirror_mode": {
    "name": "ipython",
    "version": 3
   },
   "file_extension": ".py",
   "mimetype": "text/x-python",
   "name": "python",
   "nbconvert_exporter": "python",
   "pygments_lexer": "ipython3",
   "version": "3.13.1"
  }
 },
 "nbformat": 4,
 "nbformat_minor": 2
}
